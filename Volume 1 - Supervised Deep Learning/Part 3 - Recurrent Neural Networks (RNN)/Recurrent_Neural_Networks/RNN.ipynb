{
 "cells": [
  {
   "cell_type": "markdown",
   "metadata": {},
   "source": [
    "# Recurrent Neural Networks - LSTM\n",
    "\n",
    "Predicting the stock price of Google from past stock prices (2012 - 2016)\n",
    "\n",
    "Using an LSTM\n",
    "\n",
    "Predict first month of 2017\n",
    "\n",
    "Trying to predict trends rather than the actual price"
   ]
  },
  {
   "cell_type": "markdown",
   "metadata": {},
   "source": [
    "## Preprocessing"
   ]
  },
  {
   "cell_type": "code",
   "execution_count": 1,
   "metadata": {},
   "outputs": [],
   "source": [
    "# Importing the libraries\n",
    "import numpy as np\n",
    "import matplotlib.pyplot as plt\n",
    "import pandas as pd"
   ]
  },
  {
   "cell_type": "code",
   "execution_count": 3,
   "metadata": {},
   "outputs": [
    {
     "data": {
      "text/html": [
       "<div>\n",
       "<style scoped>\n",
       "    .dataframe tbody tr th:only-of-type {\n",
       "        vertical-align: middle;\n",
       "    }\n",
       "\n",
       "    .dataframe tbody tr th {\n",
       "        vertical-align: top;\n",
       "    }\n",
       "\n",
       "    .dataframe thead th {\n",
       "        text-align: right;\n",
       "    }\n",
       "</style>\n",
       "<table border=\"1\" class=\"dataframe\">\n",
       "  <thead>\n",
       "    <tr style=\"text-align: right;\">\n",
       "      <th></th>\n",
       "      <th>Date</th>\n",
       "      <th>Open</th>\n",
       "      <th>High</th>\n",
       "      <th>Low</th>\n",
       "      <th>Close</th>\n",
       "      <th>Volume</th>\n",
       "    </tr>\n",
       "  </thead>\n",
       "  <tbody>\n",
       "    <tr>\n",
       "      <th>0</th>\n",
       "      <td>1/3/2012</td>\n",
       "      <td>325.25</td>\n",
       "      <td>332.83</td>\n",
       "      <td>324.97</td>\n",
       "      <td>663.59</td>\n",
       "      <td>7,380,500</td>\n",
       "    </tr>\n",
       "    <tr>\n",
       "      <th>1</th>\n",
       "      <td>1/4/2012</td>\n",
       "      <td>331.27</td>\n",
       "      <td>333.87</td>\n",
       "      <td>329.08</td>\n",
       "      <td>666.45</td>\n",
       "      <td>5,749,400</td>\n",
       "    </tr>\n",
       "    <tr>\n",
       "      <th>2</th>\n",
       "      <td>1/5/2012</td>\n",
       "      <td>329.83</td>\n",
       "      <td>330.75</td>\n",
       "      <td>326.89</td>\n",
       "      <td>657.21</td>\n",
       "      <td>6,590,300</td>\n",
       "    </tr>\n",
       "    <tr>\n",
       "      <th>3</th>\n",
       "      <td>1/6/2012</td>\n",
       "      <td>328.34</td>\n",
       "      <td>328.77</td>\n",
       "      <td>323.68</td>\n",
       "      <td>648.24</td>\n",
       "      <td>5,405,900</td>\n",
       "    </tr>\n",
       "    <tr>\n",
       "      <th>4</th>\n",
       "      <td>1/9/2012</td>\n",
       "      <td>322.04</td>\n",
       "      <td>322.29</td>\n",
       "      <td>309.46</td>\n",
       "      <td>620.76</td>\n",
       "      <td>11,688,800</td>\n",
       "    </tr>\n",
       "  </tbody>\n",
       "</table>\n",
       "</div>"
      ],
      "text/plain": [
       "       Date    Open    High     Low   Close      Volume\n",
       "0  1/3/2012  325.25  332.83  324.97  663.59   7,380,500\n",
       "1  1/4/2012  331.27  333.87  329.08  666.45   5,749,400\n",
       "2  1/5/2012  329.83  330.75  326.89  657.21   6,590,300\n",
       "3  1/6/2012  328.34  328.77  323.68  648.24   5,405,900\n",
       "4  1/9/2012  322.04  322.29  309.46  620.76  11,688,800"
      ]
     },
     "execution_count": 3,
     "metadata": {},
     "output_type": "execute_result"
    }
   ],
   "source": [
    "# Importing the training set\n",
    "# We will only train the RNN using the training set\n",
    "# The model will not see the test set until after training\n",
    "\n",
    "#Read in dataset in pandas\n",
    "dataset_train = pd.read_csv('Google_Stock_Price_Train.csv')\n",
    "dataset_train.head()"
   ]
  },
  {
   "cell_type": "code",
   "execution_count": 5,
   "metadata": {},
   "outputs": [
    {
     "data": {
      "text/plain": [
       "array([[ 325.25],\n",
       "       [ 331.27],\n",
       "       [ 329.83],\n",
       "       ..., \n",
       "       [ 793.7 ],\n",
       "       [ 783.33],\n",
       "       [ 782.75]])"
      ]
     },
     "execution_count": 5,
     "metadata": {},
     "output_type": "execute_result"
    }
   ],
   "source": [
    "#Subset dataset to only take the Open column\n",
    "#.values gives numpy array\n",
    "training_set = dataset_train.iloc[:, 1:2].values\n",
    "training_set"
   ]
  },
  {
   "cell_type": "code",
   "execution_count": 7,
   "metadata": {},
   "outputs": [
    {
     "data": {
      "text/plain": [
       "array([[ 0.08581368],\n",
       "       [ 0.09701243],\n",
       "       [ 0.09433366],\n",
       "       ..., \n",
       "       [ 0.95725128],\n",
       "       [ 0.93796041],\n",
       "       [ 0.93688146]])"
      ]
     },
     "execution_count": 7,
     "metadata": {},
     "output_type": "execute_result"
    }
   ],
   "source": [
    "# Feature Scaling\n",
    "# Normalisation is recommended for RNNs\n",
    "# MinMaxScaler does this\n",
    "# feature_range defines the scale, (0,1) normalises all values to be between 0 and 1\n",
    "from sklearn.preprocessing import MinMaxScaler\n",
    "sc = MinMaxScaler(feature_range = (0, 1))\n",
    "training_set_scaled = sc.fit_transform(training_set)\n",
    "training_set_scaled"
   ]
  },
  {
   "cell_type": "markdown",
   "metadata": {},
   "source": [
    "### Timesteps\n",
    "\n",
    "60 timesteps = at each time t the RNN looks at the previous 60 stock prices and attempts to predict the next output\n",
    "\n",
    "This parameter requires tuning to prevent over or underfitting\n",
    "\n",
    "Below code creates the data strucure to facilitate this\n",
    "\n",
    "X_train contains the previous 60 stock prices for every observation and y_train contains the corresponding next stock price"
   ]
  },
  {
   "cell_type": "code",
   "execution_count": 8,
   "metadata": {},
   "outputs": [],
   "source": [
    "# Creating a data structure with 60 timesteps and 1 output\n",
    "X_train = []\n",
    "y_train = []\n",
    "for i in range(60, 1258):\n",
    "    X_train.append(training_set_scaled[i-60:i, 0])\n",
    "    y_train.append(training_set_scaled[i, 0])\n",
    "X_train, y_train = np.array(X_train), np.array(y_train)"
   ]
  },
  {
   "cell_type": "code",
   "execution_count": 9,
   "metadata": {},
   "outputs": [
    {
     "data": {
      "text/plain": [
       "array([[ 0.08581368,  0.09701243,  0.09433366, ...,  0.07846566,\n",
       "         0.08034452,  0.08497656],\n",
       "       [ 0.09701243,  0.09433366,  0.09156187, ...,  0.08034452,\n",
       "         0.08497656,  0.08627874],\n",
       "       [ 0.09433366,  0.09156187,  0.07984225, ...,  0.08497656,\n",
       "         0.08627874,  0.08471612],\n",
       "       ..., \n",
       "       [ 0.92106928,  0.92438053,  0.93048218, ...,  0.95475854,\n",
       "         0.95204256,  0.95163331],\n",
       "       [ 0.92438053,  0.93048218,  0.9299055 , ...,  0.95204256,\n",
       "         0.95163331,  0.95725128],\n",
       "       [ 0.93048218,  0.9299055 ,  0.93113327, ...,  0.95163331,\n",
       "         0.95725128,  0.93796041]])"
      ]
     },
     "execution_count": 9,
     "metadata": {},
     "output_type": "execute_result"
    }
   ],
   "source": [
    "X_train"
   ]
  },
  {
   "cell_type": "code",
   "execution_count": 10,
   "metadata": {},
   "outputs": [
    {
     "data": {
      "text/plain": [
       "array([ 0.08627874,  0.08471612,  0.07454052, ...,  0.95725128,\n",
       "        0.93796041,  0.93688146])"
      ]
     },
     "execution_count": 10,
     "metadata": {},
     "output_type": "execute_result"
    }
   ],
   "source": [
    "y_train"
   ]
  },
  {
   "cell_type": "markdown",
   "metadata": {},
   "source": [
    "### Indicators\n",
    "\n",
    "This tutorial uses a single indicator - Google's own stock prices over the last 5 years\n",
    "\n",
    "The following datastructure makes it possible to add additional indicators to the LSTM such as stock prices from other, similar companies such as Amazon or additional columns from the dataset such as the Close price or Volumes"
   ]
  },
  {
   "cell_type": "code",
   "execution_count": 11,
   "metadata": {},
   "outputs": [],
   "source": [
    "# Reshaping\n",
    "# Adds another dimension to the X_train (model inputs)\n",
    "# Second argument \"newshape\" gives new dimensions\n",
    "# (A, B, C) - dimensions expected as input to Keras recurrent layers\n",
    "# A = batch_size (no of lines in X_train)\n",
    "# B = timesteps (no of columns in X_train)\n",
    "# C = input_dim (no of indicators)\n",
    "X_train = np.reshape(X_train, (X_train.shape[0], X_train.shape[1], 1))"
   ]
  },
  {
   "cell_type": "markdown",
   "metadata": {},
   "source": [
    "## Build the RNN\n",
    "Stacked LSTM"
   ]
  },
  {
   "cell_type": "code",
   "execution_count": 12,
   "metadata": {},
   "outputs": [
    {
     "name": "stderr",
     "output_type": "stream",
     "text": [
      "Using TensorFlow backend.\n"
     ]
    }
   ],
   "source": [
    "# Importing the Keras libraries and packages\n",
    "from keras.models import Sequential\n",
    "from keras.layers import Dense\n",
    "from keras.layers import LSTM\n",
    "from keras.layers import Dropout"
   ]
  },
  {
   "cell_type": "code",
   "execution_count": 13,
   "metadata": {},
   "outputs": [],
   "source": [
    "# Initialising the RNN\n",
    "# Name regressor used here as we are predicting a continuous variable\n",
    "regressor = Sequential()"
   ]
  },
  {
   "cell_type": "code",
   "execution_count": 14,
   "metadata": {},
   "outputs": [],
   "source": [
    "# Adding the first LSTM layer and some Dropout regularisation\n",
    "# units - number of LSTM cells or units in the layer. Larger numbers increases dimensionality.\n",
    "# return_sequences - stacked LSTM with several layers\n",
    "# input_shape - shape of the input X_train\n",
    "regressor.add(LSTM(units = 50, return_sequences = True, input_shape = (X_train.shape[1], 1)))\n",
    "\n",
    "#20% Dropout\n",
    "#20% of neurons' ignored during training\n",
    "regressor.add(Dropout(0.2))"
   ]
  },
  {
   "cell_type": "code",
   "execution_count": 15,
   "metadata": {},
   "outputs": [],
   "source": [
    "# Adding a second LSTM layer and some Dropout regularisation\n",
    "# Don't have to specify input shape here as we have already done so with the first layer\n",
    "regressor.add(LSTM(units = 50, return_sequences = True))\n",
    "regressor.add(Dropout(0.2))"
   ]
  },
  {
   "cell_type": "code",
   "execution_count": 16,
   "metadata": {},
   "outputs": [],
   "source": [
    "# Adding a third LSTM layer and some Dropout regularisation\n",
    "# Exactly the same as adding the second layer\n",
    "regressor.add(LSTM(units = 50, return_sequences = True))\n",
    "regressor.add(Dropout(0.2))"
   ]
  },
  {
   "cell_type": "code",
   "execution_count": 17,
   "metadata": {},
   "outputs": [],
   "source": [
    "# Adding a fourth LSTM layer and some Dropout regularisation\n",
    "# return_sequences = False here as this is the final LSTM layer\n",
    "regressor.add(LSTM(units = 50))\n",
    "regressor.add(Dropout(0.2))"
   ]
  },
  {
   "cell_type": "code",
   "execution_count": 18,
   "metadata": {},
   "outputs": [],
   "source": [
    "# Adding the output layer\n",
    "# Fully connected layer - use Dense class\n",
    "# units = 1 - Our desired output has only 1 dimension - it is a number\n",
    "regressor.add(Dense(units = 1))"
   ]
  },
  {
   "cell_type": "code",
   "execution_count": 19,
   "metadata": {},
   "outputs": [],
   "source": [
    "# Compiling the RNN\n",
    "# OPTIMIZER \n",
    "# RMSprop usually recommended for LSTM\n",
    "# adam used here \n",
    "# \n",
    "# LOSS\n",
    "# mse used here as we are dealing with a regression not classification problem\n",
    "regressor.compile(optimizer = 'adam', loss = 'mean_squared_error')"
   ]
  },
  {
   "cell_type": "code",
   "execution_count": 20,
   "metadata": {
    "scrolled": true
   },
   "outputs": [
    {
     "name": "stdout",
     "output_type": "stream",
     "text": [
      "Epoch 1/100\n",
      "1198/1198 [==============================] - 21s - loss: 0.0576    \n",
      "Epoch 2/100\n",
      "1198/1198 [==============================] - 18s - loss: 0.0085    \n",
      "Epoch 3/100\n",
      "1198/1198 [==============================] - 18s - loss: 0.0061    \n",
      "Epoch 4/100\n",
      "1198/1198 [==============================] - 18s - loss: 0.0051    \n",
      "Epoch 5/100\n",
      "1198/1198 [==============================] - 18s - loss: 0.0050    \n",
      "Epoch 6/100\n",
      "1198/1198 [==============================] - 18s - loss: 0.0056    \n",
      "Epoch 7/100\n",
      "1198/1198 [==============================] - 20s - loss: 0.0055    \n",
      "Epoch 8/100\n",
      "1198/1198 [==============================] - 20s - loss: 0.0045    \n",
      "Epoch 9/100\n",
      "1198/1198 [==============================] - 18s - loss: 0.0047    \n",
      "Epoch 10/100\n",
      "1198/1198 [==============================] - 19s - loss: 0.0041    \n",
      "Epoch 11/100\n",
      "1198/1198 [==============================] - 19s - loss: 0.0039    \n",
      "Epoch 12/100\n",
      "1198/1198 [==============================] - 18s - loss: 0.0038    \n",
      "Epoch 13/100\n",
      "1198/1198 [==============================] - 18s - loss: 0.0038    \n",
      "Epoch 14/100\n",
      "1198/1198 [==============================] - 19s - loss: 0.0038    \n",
      "Epoch 15/100\n",
      "1198/1198 [==============================] - 19s - loss: 0.0038    \n",
      "Epoch 16/100\n",
      "1198/1198 [==============================] - 19s - loss: 0.0037    \n",
      "Epoch 17/100\n",
      "1198/1198 [==============================] - 18s - loss: 0.0034    \n",
      "Epoch 18/100\n",
      "1198/1198 [==============================] - 18s - loss: 0.0031    \n",
      "Epoch 19/100\n",
      "1198/1198 [==============================] - 21s - loss: 0.0031    \n",
      "Epoch 20/100\n",
      "1198/1198 [==============================] - 20s - loss: 0.0037    \n",
      "Epoch 21/100\n",
      "1198/1198 [==============================] - 19s - loss: 0.0039    \n",
      "Epoch 22/100\n",
      "1198/1198 [==============================] - 25s - loss: 0.0034    \n",
      "Epoch 23/100\n",
      "1198/1198 [==============================] - 24s - loss: 0.0033    \n",
      "Epoch 24/100\n",
      "1198/1198 [==============================] - 36s - loss: 0.0033    \n",
      "Epoch 25/100\n",
      "1198/1198 [==============================] - 38s - loss: 0.0031    \n",
      "Epoch 26/100\n",
      "1198/1198 [==============================] - 39s - loss: 0.0031    \n",
      "Epoch 27/100\n",
      "1198/1198 [==============================] - 39s - loss: 0.0029    \n",
      "Epoch 28/100\n",
      "1198/1198 [==============================] - 38s - loss: 0.0029    \n",
      "Epoch 29/100\n",
      "1198/1198 [==============================] - 36s - loss: 0.0031    \n",
      "Epoch 30/100\n",
      "1198/1198 [==============================] - 36s - loss: 0.0032    \n",
      "Epoch 31/100\n",
      "1198/1198 [==============================] - 34s - loss: 0.0030    \n",
      "Epoch 32/100\n",
      "1198/1198 [==============================] - 36s - loss: 0.0027    \n",
      "Epoch 33/100\n",
      "1198/1198 [==============================] - 3660s - loss: 0.0028   \n",
      "Epoch 34/100\n",
      "1198/1198 [==============================] - 7268s - loss: 0.0026   \n",
      "Epoch 35/100\n",
      "1198/1198 [==============================] - 3683s - loss: 0.0031   \n",
      "Epoch 36/100\n",
      "1198/1198 [==============================] - 7261s - loss: 0.0027   \n",
      "Epoch 37/100\n",
      "1198/1198 [==============================] - 3688s - loss: 0.0029   \n",
      "Epoch 38/100\n",
      "1198/1198 [==============================] - 3685s - loss: 0.0028   \n",
      "Epoch 39/100\n",
      "1198/1198 [==============================] - 7267s - loss: 0.0028   \n",
      "Epoch 40/100\n",
      "1198/1198 [==============================] - 3683s - loss: 0.0028   \n",
      "Epoch 41/100\n",
      "1198/1198 [==============================] - 7271s - loss: 0.0025   \n",
      "Epoch 42/100\n",
      "1198/1198 [==============================] - 3677s - loss: 0.0027   \n",
      "Epoch 43/100\n",
      "1198/1198 [==============================] - 3689s - loss: 0.0031   \n",
      "Epoch 44/100\n",
      "1198/1198 [==============================] - 2440s - loss: 0.0027   \n",
      "Epoch 45/100\n",
      "1198/1198 [==============================] - 32s - loss: 0.0025    \n",
      "Epoch 46/100\n",
      "1198/1198 [==============================] - 39s - loss: 0.0024    \n",
      "Epoch 47/100\n",
      "1198/1198 [==============================] - 29s - loss: 0.0026    \n",
      "Epoch 48/100\n",
      "1198/1198 [==============================] - 18s - loss: 0.0025    \n",
      "Epoch 49/100\n",
      "1198/1198 [==============================] - 17s - loss: 0.0025    \n",
      "Epoch 50/100\n",
      "1198/1198 [==============================] - 19s - loss: 0.0022    \n",
      "Epoch 51/100\n",
      "1198/1198 [==============================] - 22s - loss: 0.0023    \n",
      "Epoch 52/100\n",
      "1198/1198 [==============================] - 21s - loss: 0.0023    \n",
      "Epoch 53/100\n",
      "1198/1198 [==============================] - 17s - loss: 0.0021    \n",
      "Epoch 54/100\n",
      "1198/1198 [==============================] - 17s - loss: 0.0026    \n",
      "Epoch 55/100\n",
      "1198/1198 [==============================] - 17s - loss: 0.0022    \n",
      "Epoch 56/100\n",
      "1198/1198 [==============================] - 17s - loss: 0.0019    \n",
      "Epoch 57/100\n",
      "1198/1198 [==============================] - 17s - loss: 0.0022    \n",
      "Epoch 58/100\n",
      "1198/1198 [==============================] - 17s - loss: 0.0020    \n",
      "Epoch 59/100\n",
      "1198/1198 [==============================] - 17s - loss: 0.0023    \n",
      "Epoch 60/100\n",
      "1198/1198 [==============================] - 17s - loss: 0.0020    \n",
      "Epoch 61/100\n",
      "1198/1198 [==============================] - 17s - loss: 0.0021    \n",
      "Epoch 62/100\n",
      "1198/1198 [==============================] - 17s - loss: 0.0021    \n",
      "Epoch 63/100\n",
      "1198/1198 [==============================] - 17s - loss: 0.0017    \n",
      "Epoch 64/100\n",
      "1198/1198 [==============================] - 17s - loss: 0.0022    \n",
      "Epoch 65/100\n",
      "1198/1198 [==============================] - 17s - loss: 0.0017    \n",
      "Epoch 66/100\n",
      "1198/1198 [==============================] - 17s - loss: 0.0020    \n",
      "Epoch 67/100\n",
      "1198/1198 [==============================] - 17s - loss: 0.0019    \n",
      "Epoch 68/100\n",
      "1198/1198 [==============================] - 17s - loss: 0.0020    \n",
      "Epoch 69/100\n",
      "1198/1198 [==============================] - 18s - loss: 0.0018    \n",
      "Epoch 70/100\n",
      "1198/1198 [==============================] - 19s - loss: 0.0017    \n",
      "Epoch 71/100\n",
      "1198/1198 [==============================] - 18s - loss: 0.0018    \n",
      "Epoch 72/100\n",
      "1198/1198 [==============================] - 18s - loss: 0.0017    \n",
      "Epoch 73/100\n",
      "1198/1198 [==============================] - 18s - loss: 0.0018    \n",
      "Epoch 74/100\n",
      "1198/1198 [==============================] - 20s - loss: 0.0020    \n",
      "Epoch 75/100\n",
      "1198/1198 [==============================] - 17s - loss: 0.0019    \n",
      "Epoch 76/100\n",
      "1198/1198 [==============================] - 18s - loss: 0.0019    \n",
      "Epoch 77/100\n",
      "1198/1198 [==============================] - 19s - loss: 0.0019    \n",
      "Epoch 78/100\n",
      "1198/1198 [==============================] - 18s - loss: 0.0017    \n",
      "Epoch 79/100\n",
      "1198/1198 [==============================] - 24s - loss: 0.0018    \n",
      "Epoch 80/100\n",
      "1198/1198 [==============================] - 18s - loss: 0.0016    \n",
      "Epoch 81/100\n",
      "1198/1198 [==============================] - 17s - loss: 0.0016    \n",
      "Epoch 82/100\n",
      "1198/1198 [==============================] - 17s - loss: 0.0018    \n",
      "Epoch 83/100\n",
      "1198/1198 [==============================] - 18s - loss: 0.0015    \n",
      "Epoch 84/100\n",
      "1198/1198 [==============================] - 18s - loss: 0.0016    \n",
      "Epoch 85/100\n",
      "1198/1198 [==============================] - 17s - loss: 0.0017    \n",
      "Epoch 86/100\n",
      "1198/1198 [==============================] - 17s - loss: 0.0016    \n",
      "Epoch 87/100\n",
      "1198/1198 [==============================] - 17s - loss: 0.0018    \n",
      "Epoch 88/100\n",
      "1198/1198 [==============================] - 17s - loss: 0.0016    \n",
      "Epoch 89/100\n",
      "1198/1198 [==============================] - 18s - loss: 0.0017    \n",
      "Epoch 90/100\n",
      "1198/1198 [==============================] - 21s - loss: 0.0016    \n",
      "Epoch 91/100\n",
      "1198/1198 [==============================] - 18s - loss: 0.0017    \n",
      "Epoch 92/100\n",
      "1198/1198 [==============================] - 17s - loss: 0.0018    \n",
      "Epoch 93/100\n",
      "1198/1198 [==============================] - 17s - loss: 0.0015    \n",
      "Epoch 94/100\n",
      "1198/1198 [==============================] - 17s - loss: 0.0017    \n",
      "Epoch 95/100\n",
      "1198/1198 [==============================] - 17s - loss: 0.0015    \n",
      "Epoch 96/100\n",
      "1198/1198 [==============================] - 17s - loss: 0.0015    \n",
      "Epoch 97/100\n",
      "1198/1198 [==============================] - 16s - loss: 0.0015    \n",
      "Epoch 98/100\n",
      "1198/1198 [==============================] - 17s - loss: 0.0015    \n",
      "Epoch 99/100\n",
      "1198/1198 [==============================] - 17s - loss: 0.0014    \n",
      "Epoch 100/100\n",
      "1198/1198 [==============================] - 18s - loss: 0.0014    \n"
     ]
    },
    {
     "data": {
      "text/plain": [
       "<keras.callbacks.History at 0x1c2abad780>"
      ]
     },
     "execution_count": 20,
     "metadata": {},
     "output_type": "execute_result"
    }
   ],
   "source": [
    "# Fitting the RNN to the Training set\n",
    "#As before with CNN and ANN\n",
    "#100 epochs from trial and error - showed conversion on the loss\n",
    "#Small dataset\n",
    "#Batch Size = 32\n",
    "#Weights updated every 32 datapoints\n",
    "#Loss at the end of 100 epochs low but not so low to be suspicious of overfitting\n",
    "regressor.fit(X_train, y_train, epochs = 100, batch_size = 32)"
   ]
  },
  {
   "cell_type": "markdown",
   "metadata": {},
   "source": [
    "## Making predictions & visualising the result"
   ]
  },
  {
   "cell_type": "code",
   "execution_count": 21,
   "metadata": {},
   "outputs": [],
   "source": [
    "# Getting the real stock price of 2017\n",
    "#Import the test data into a dataframe\n",
    "#Select the correct columns for the real results as with the training set\n",
    "dataset_test = pd.read_csv('Google_Stock_Price_Test.csv')\n",
    "real_stock_price = dataset_test.iloc[:, 1:2].values"
   ]
  },
  {
   "cell_type": "code",
   "execution_count": 22,
   "metadata": {},
   "outputs": [],
   "source": [
    "# Getting the predicted stock price of 2017\n",
    "#To predict each new value, we need the 60 previous values. We need a test and training set for these\n",
    "#Concatenate the actual training and test datasets - the original dataframes as read from CSV\n",
    "#Then we scale these inputs as before - for consistency in data. Normalisation from sc object\n",
    "#This does not change the original inputs\n",
    "\n",
    "#Concatenate dataframes - axis=0 is vertical concatenation\n",
    "dataset_total = pd.concat((dataset_train['Open'], dataset_test['Open']), axis = 0)\n",
    "\n",
    "#Need the stock prices from 60 days previous to the first prediction to day previous to the\n",
    "#last prediction\n",
    "inputs = dataset_total[len(dataset_total) - len(dataset_test) - 60:].values\n",
    "\n",
    "#Reshape the input to ensure numpy array\n",
    "inputs = inputs.reshape(-1,1)\n",
    "\n",
    "#Scale the inputs - as before minus the fit as we have already fit the scaling to the training set\n",
    "inputs = sc.transform(inputs)\n",
    "\n",
    "#Create the 3D input structure for the model\n",
    "X_test = []\n",
    "#Get the 60 previous inputs for each of the 20 inputs in January 2017\n",
    "for i in range(60, 80):\n",
    "    X_test.append(inputs[i-60:i, 0])\n",
    "\n",
    "#convert list to numpy array\n",
    "X_test = np.array(X_test)\n",
    "\n",
    "#Reshape array into 3D format\n",
    "X_test = np.reshape(X_test, (X_test.shape[0], X_test.shape[1], 1))\n",
    "\n",
    "#Make prediction\n",
    "predicted_stock_price = regressor.predict(X_test)\n",
    "\n",
    "#Inverse scale the predicted results so they can be compared to the real values\n",
    "predicted_stock_price = sc.inverse_transform(predicted_stock_price)\n"
   ]
  },
  {
   "cell_type": "code",
   "execution_count": 23,
   "metadata": {},
   "outputs": [
    {
     "data": {
      "image/png": "[encoded data removed]",
      "text/plain": [
       "<matplotlib.figure.Figure at 0x1c2e559ba8>"
      ]
     },
     "metadata": {},
     "output_type": "display_data"
    }
   ],
   "source": [
    "# Visualising the results\n",
    "plt.plot(real_stock_price, color = 'red', label = 'Real Google Stock Price')\n",
    "plt.plot(predicted_stock_price, color = 'blue', label = 'Predicted Google Stock Price')\n",
    "plt.title('Google Stock Price Prediction')\n",
    "plt.xlabel('Time')\n",
    "plt.ylabel('Google Stock Price')\n",
    "plt.legend()\n",
    "plt.show()"
   ]
  },
  {
   "cell_type": "code",
   "execution_count": null,
   "metadata": {},
   "outputs": [],
   "source": [
    "#Evaluation\n",
    "#RMSE is a good measure of the closeness of the predicted values to the real values\n",
    "#For the tutorial this was not as important as we were trying to predict the general trend and not the exact values\n",
    "#The code here is given as an example of how you would measure RMSE in this case\n",
    "import math\n",
    "from sklearn.metrics import mean_squared_error\n",
    "rmse = math.sqrt(mean_squared_error(real_stock_price, predicted_stock_price))\n",
    "\n",
    "#To get a relative error  rather than an absolute error - divide the RMSE by the range of the real values for Jan 2017"
   ]
  }
 ],
 "metadata": {
  "kernelspec": {
   "display_name": "Python 3",
   "language": "python",
   "name": "python3"
  },
  "language_info": {
   "codemirror_mode": {
    "name": "ipython",
    "version": 3
   },
   "file_extension": ".py",
   "mimetype": "text/x-python",
   "name": "python",
   "nbconvert_exporter": "python",
   "pygments_lexer": "ipython3",
   "version": "3.6.3"
  }
 },
 "nbformat": 4,
 "nbformat_minor": 2
}
