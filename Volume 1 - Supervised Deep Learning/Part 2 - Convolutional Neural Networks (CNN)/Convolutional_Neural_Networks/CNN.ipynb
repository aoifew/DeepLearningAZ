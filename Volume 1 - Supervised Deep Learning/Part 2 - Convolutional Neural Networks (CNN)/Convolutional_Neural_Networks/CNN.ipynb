{
 "cells": [
  {
   "cell_type": "markdown",
   "metadata": {},
   "source": [
    "## Data Preprocessing\n",
    "Separate training and test data into folders - 1 for each\n",
    "\n",
    "Also then separate images into folders for each class, e.g. cats and dogs\n",
    "\n",
    "Naming convention - LABEL.NUMBER.EXTENSION, e.g. cat.1.jpg\n",
    "\n",
    "10000 images total - 80/20 split between training and test set\n",
    "\n",
    "Unlike previous ANN, the data preprocessing is done manually and some feature selection is one later"
   ]
  },
  {
   "cell_type": "markdown",
   "metadata": {},
   "source": [
    "## Building the CNN"
   ]
  },
  {
   "cell_type": "code",
   "execution_count": 1,
   "metadata": {},
   "outputs": [
    {
     "name": "stderr",
     "output_type": "stream",
     "text": [
      "Using TensorFlow backend.\n"
     ]
    }
   ],
   "source": [
    "# Importing the Keras libraries and packages\n",
    "from keras.models import Sequential\n",
    "from keras.layers import Conv2D #2D for images\n",
    "from keras.layers import MaxPooling2D #As above\n",
    "from keras.layers import Flatten\n",
    "from keras.layers import Dense\n"
   ]
  },
  {
   "cell_type": "code",
   "execution_count": 2,
   "metadata": {},
   "outputs": [],
   "source": [
    "# Initialising the CNN\n",
    "classifier = Sequential()"
   ]
  },
  {
   "cell_type": "code",
   "execution_count": 3,
   "metadata": {},
   "outputs": [],
   "source": [
    "# Step 1 - Convolution\n",
    "#Create number of feature maps\n",
    "#Convolution2D \n",
    "#- number of filters = 32 (common practise to start with a 32 and then add more conv layers with 64 filters for example)\n",
    "#- number of rows in each filter = 3\n",
    "#- number of columns in each filter\n",
    "#- input shape - shape of the input image. Not all have the same size or format so we must convert all input images to same format\n",
    "# Colour images - convert to 3D array. BW - 2D array\n",
    "#(64, 64, 3) = 3 channels (colour, 1 for BW), 64x64 format (smaller as we are running on a CPU)\n",
    "#- activation function - makes sure we have no negative pixel values in our feature maps, ensures non-linearity in model\n",
    "classifier.add(Conv2D(32, (3, 3), input_shape = (64, 64, 3), activation = 'relu'))"
   ]
  },
  {
   "cell_type": "code",
   "execution_count": 4,
   "metadata": {},
   "outputs": [],
   "source": [
    "# Step 2 - Pooling\n",
    "#Reduces size of feature map\n",
    "#Apply to each feature map as result of conv layer\n",
    "#Reduce nodes needed for next step (flattening)\n",
    "#Pool size 2x2 - reduces without losing too much feature information\n",
    "classifier.add(MaxPooling2D(pool_size = (2, 2)))"
   ]
  },
  {
   "cell_type": "code",
   "execution_count": 5,
   "metadata": {},
   "outputs": [],
   "source": [
    "# Adding a second convolutional layer\n",
    "classifier.add(Conv2D(32, (3, 3), activation = 'relu'))\n",
    "classifier.add(MaxPooling2D(pool_size = (2, 2)))"
   ]
  },
  {
   "cell_type": "code",
   "execution_count": 6,
   "metadata": {},
   "outputs": [],
   "source": [
    "# Step 3 - Flattening\n",
    "classifier.add(Flatten())"
   ]
  },
  {
   "cell_type": "code",
   "execution_count": 7,
   "metadata": {},
   "outputs": [],
   "source": [
    "# Step 4 - Full connection\n",
    "#Classic ANN of fully connected layers\n",
    "#units = no. nodes in hidden layer.\n",
    "classifier.add(Dense(units = 128, activation = 'relu'))\n",
    "classifier.add(Dense(units = 1, activation = 'sigmoid'))"
   ]
  },
  {
   "cell_type": "code",
   "execution_count": 8,
   "metadata": {},
   "outputs": [],
   "source": [
    "# Compiling the CNN\n",
    "#optimizer = SGD algorithm\n",
    "#loss = loss function Binary Cross entropy used as our outcome is binary\n",
    "#metrics = performance metric\n",
    "classifier.compile(optimizer = 'adam', loss = 'binary_crossentropy', metrics = ['accuracy'])"
   ]
  },
  {
   "cell_type": "markdown",
   "metadata": {},
   "source": [
    "## Fitting the CNN to the images"
   ]
  },
  {
   "cell_type": "code",
   "execution_count": 9,
   "metadata": {},
   "outputs": [],
   "source": [
    "#Preprocessing\n",
    "#Image Augmentation from keras\n",
    "#Prevents overfitting\n",
    "#ImageDataGenerator - generates batches of images with some random augmentations (rotation, flipped, etc.)\n",
    "from keras.preprocessing.image import ImageDataGenerator"
   ]
  },
  {
   "cell_type": "code",
   "execution_count": 10,
   "metadata": {},
   "outputs": [],
   "source": [
    "#Generate Augmented data\n",
    "#rescale - feature scaling\n",
    "#shear_range Shearing or transvection. Geometrical transformation\n",
    "#zoom_range - random zooming\n",
    "#horizontal_flip\n",
    "train_datagen = ImageDataGenerator(rescale = 1./255,\n",
    "                                   shear_range = 0.2,\n",
    "                                   zoom_range = 0.2,\n",
    "                                   horizontal_flip = True)\n",
    "\n",
    "test_datagen = ImageDataGenerator(rescale = 1./255)"
   ]
  },
  {
   "cell_type": "code",
   "execution_count": 11,
   "metadata": {},
   "outputs": [
    {
     "name": "stdout",
     "output_type": "stream",
     "text": [
      "Found 8000 images belonging to 2 classes.\n",
      "Found 2000 images belonging to 2 classes.\n"
     ]
    }
   ],
   "source": [
    "#Create training and test data from augmented data generator\n",
    "#target size - size expected by the model\n",
    "#class mode - binary as we have only two classes\n",
    "training_set = train_datagen.flow_from_directory('dataset/training_set',\n",
    "                                                 target_size = (64, 64),\n",
    "                                                 batch_size = 32,\n",
    "                                                 class_mode = 'binary')\n",
    "\n",
    "test_set = test_datagen.flow_from_directory('dataset/test_set',\n",
    "                                            target_size = (64, 64),\n",
    "                                            batch_size = 32,\n",
    "                                            class_mode = 'binary')"
   ]
  },
  {
   "cell_type": "code",
   "execution_count": 12,
   "metadata": {},
   "outputs": [
    {
     "name": "stdout",
     "output_type": "stream",
     "text": [
      "Epoch 1/25\n",
      "8000/8000 [==============================] - 1342s - loss: 0.3704 - acc: 0.8255 - val_loss: 0.5233 - val_acc: 0.8152\n",
      "Epoch 2/25\n",
      "8000/8000 [==============================] - 1285s - loss: 0.1346 - acc: 0.9474 - val_loss: 0.8162 - val_acc: 0.8145\n",
      "Epoch 3/25\n",
      "8000/8000 [==============================] - 1286s - loss: 0.0755 - acc: 0.9723 - val_loss: 0.9337 - val_acc: 0.8123\n",
      "Epoch 4/25\n",
      "8000/8000 [==============================] - 1284s - loss: 0.0550 - acc: 0.9803 - val_loss: 0.9254 - val_acc: 0.8085\n",
      "Epoch 5/25\n",
      "8000/8000 [==============================] - 1286s - loss: 0.0453 - acc: 0.9841 - val_loss: 0.9858 - val_acc: 0.8090\n",
      "Epoch 6/25\n",
      "8000/8000 [==============================] - 1283s - loss: 0.0378 - acc: 0.9868 - val_loss: 1.0603 - val_acc: 0.8091\n",
      "Epoch 7/25\n",
      "8000/8000 [==============================] - 1283s - loss: 0.0327 - acc: 0.9886 - val_loss: 1.0846 - val_acc: 0.8194\n",
      "Epoch 8/25\n",
      "8000/8000 [==============================] - 1282s - loss: 0.0306 - acc: 0.9895 - val_loss: 1.1858 - val_acc: 0.8017\n",
      "Epoch 9/25\n",
      "8000/8000 [==============================] - 1281s - loss: 0.0281 - acc: 0.9905 - val_loss: 1.1180 - val_acc: 0.8199\n",
      "Epoch 10/25\n",
      "8000/8000 [==============================] - 1284s - loss: 0.0242 - acc: 0.9918 - val_loss: 1.1778 - val_acc: 0.8188\n",
      "Epoch 11/25\n",
      "8000/8000 [==============================] - 1285s - loss: 0.0229 - acc: 0.9924 - val_loss: 1.1771 - val_acc: 0.8071\n",
      "Epoch 12/25\n",
      "8000/8000 [==============================] - 1284s - loss: 0.0208 - acc: 0.9930 - val_loss: 1.1803 - val_acc: 0.8172\n",
      "Epoch 13/25\n",
      "8000/8000 [==============================] - 1284s - loss: 0.0198 - acc: 0.9934 - val_loss: 1.2836 - val_acc: 0.8076\n",
      "Epoch 14/25\n",
      "8000/8000 [==============================] - 1284s - loss: 0.0186 - acc: 0.9940 - val_loss: 1.1828 - val_acc: 0.8242\n",
      "Epoch 15/25\n",
      "8000/8000 [==============================] - 1285s - loss: 0.0178 - acc: 0.9940 - val_loss: 1.2713 - val_acc: 0.8120\n",
      "Epoch 16/25\n",
      "8000/8000 [==============================] - 1284s - loss: 0.0165 - acc: 0.9946 - val_loss: 1.3820 - val_acc: 0.8133\n",
      "Epoch 17/25\n",
      "8000/8000 [==============================] - 1286s - loss: 0.0162 - acc: 0.9948 - val_loss: 1.3211 - val_acc: 0.8229\n",
      "Epoch 18/25\n",
      "8000/8000 [==============================] - 1283s - loss: 0.0152 - acc: 0.9951 - val_loss: 1.2747 - val_acc: 0.8097\n",
      "Epoch 19/25\n",
      "8000/8000 [==============================] - 1282s - loss: 0.0140 - acc: 0.9954 - val_loss: 1.3630 - val_acc: 0.8084\n",
      "Epoch 20/25\n",
      "8000/8000 [==============================] - 1282s - loss: 0.0140 - acc: 0.9956 - val_loss: 1.3537 - val_acc: 0.8106\n",
      "Epoch 21/25\n",
      "8000/8000 [==============================] - 1284s - loss: 0.0132 - acc: 0.9957 - val_loss: 1.4597 - val_acc: 0.8094\n",
      "Epoch 22/25\n",
      "8000/8000 [==============================] - 1283s - loss: 0.0126 - acc: 0.9959 - val_loss: 1.4607 - val_acc: 0.8113\n",
      "Epoch 23/25\n",
      "8000/8000 [==============================] - 1283s - loss: 0.0124 - acc: 0.9960 - val_loss: 1.4521 - val_acc: 0.8153\n",
      "Epoch 24/25\n",
      "8000/8000 [==============================] - 1283s - loss: 0.0125 - acc: 0.9960 - val_loss: 1.3502 - val_acc: 0.8036\n",
      "Epoch 25/25\n",
      "8000/8000 [==============================] - 1284s - loss: 0.0115 - acc: 0.9965 - val_loss: 1.4936 - val_acc: 0.7988\n"
     ]
    },
    {
     "data": {
      "text/plain": [
       "<keras.callbacks.History at 0x1a1afacfd0>"
      ]
     },
     "execution_count": 12,
     "metadata": {},
     "output_type": "execute_result"
    }
   ],
   "source": [
    "#Fit model to training set\n",
    "#steps per epoch = number of training examples\n",
    "classifier.fit_generator(training_set,\n",
    "                         steps_per_epoch = 8000,\n",
    "                         epochs = 25,\n",
    "                         validation_data = test_set,\n",
    "                         validation_steps = 2000)"
   ]
  },
  {
   "cell_type": "markdown",
   "metadata": {},
   "source": [
    "## Homework - Make new predictions"
   ]
  },
  {
   "cell_type": "code",
   "execution_count": 13,
   "metadata": {},
   "outputs": [],
   "source": [
    "import numpy as np\n",
    "from keras.preprocessing import image\n",
    "\n",
    "#target_size = 64, 64 to match our input dimensions\n",
    "test_image = image.load_img('dataset/single_prediction/cat_or_dog_1.jpg', target_size = (64, 64))\n",
    "\n",
    "#Converts image to 3D array 64x64x3\n",
    "test_image = image.img_to_array(test_image)\n",
    "\n",
    "#Add additional dimension - for batch\n",
    "#1 image = 1 batch of one image\n",
    "test_image = np.expand_dims(test_image, axis = 0)\n",
    "\n",
    "#Make prediction\n",
    "result = classifier.predict(test_image)\n",
    "\n",
    "#Gives mapping between classes and indices in prediction\n",
    "training_set.class_indices\n",
    "\n",
    "#Converts 1/0 to class name\n",
    "if result[0][0] == 1:\n",
    "    prediction = 'dog'\n",
    "else:\n",
    "    prediction = 'cat'"
   ]
  },
  {
   "cell_type": "code",
   "execution_count": 15,
   "metadata": {},
   "outputs": [
    {
     "data": {
      "text/plain": [
       "'dog'"
      ]
     },
     "execution_count": 15,
     "metadata": {},
     "output_type": "execute_result"
    }
   ],
   "source": [
    "prediction"
   ]
  },
  {
   "cell_type": "code",
   "execution_count": 16,
   "metadata": {},
   "outputs": [],
   "source": [
    "#target_size = 64, 64 to match our input dimensions\n",
    "test_image = image.load_img('dataset/single_prediction/cat_or_dog_2.jpg', target_size = (64, 64))\n",
    "\n",
    "#Converts image to 3D array 64x64x3\n",
    "test_image = image.img_to_array(test_image)\n",
    "\n",
    "#Add additional dimension - for batch\n",
    "#1 image = 1 batch of one image\n",
    "test_image = np.expand_dims(test_image, axis = 0)\n",
    "\n",
    "#Make prediction\n",
    "result = classifier.predict(test_image)\n",
    "\n",
    "#Converts 1/0 to class name\n",
    "if result[0][0] == 1:\n",
    "    prediction = 'dog'\n",
    "else:\n",
    "    prediction = 'cat'"
   ]
  },
  {
   "cell_type": "code",
   "execution_count": 17,
   "metadata": {},
   "outputs": [
    {
     "data": {
      "text/plain": [
       "'cat'"
      ]
     },
     "execution_count": 17,
     "metadata": {},
     "output_type": "execute_result"
    }
   ],
   "source": [
    "prediction"
   ]
  },
  {
   "cell_type": "markdown",
   "metadata": {},
   "source": [
    "## Homework Challenge\n",
    "Evaluation was already made during the training with the validation set, therefore k-Fold Cross Validation is not needed.\n",
    "\n",
    "Then the techniques to improve and tune a CNN model are the same as for ANNs. So here is the challenge:\n",
    "\n",
    "Apply the techniques you've learnt and use your architect power to make a CNN that will give you the gold medal:\n",
    "\n",
    "Bronze medal: Test set accuracy between 80% and 85%\n",
    "\n",
    "Silver medal: Test set accuracy between 85% and 90%\n",
    "\n",
    "Gold medal: Test set accuracy over 90%!!\n",
    "\n",
    "Rules:\n",
    "\n",
    "- Use the same training set\n",
    "\n",
    "- Dropout allowed\n",
    "\n",
    "- Customized SGD allowed\n",
    "\n",
    "- Specific seeds not allowed\n"
   ]
  },
  {
   "cell_type": "code",
   "execution_count": 2,
   "metadata": {},
   "outputs": [],
   "source": [
    "#From Udemy - best answer - 92% accuracy\n",
    "from keras.models import Sequential\n",
    "from keras.layers import Conv2D, MaxPooling2D, Flatten, Dense, Dropout\n",
    "from keras.optimizers import Adam\n",
    "from keras.preprocessing.image import ImageDataGenerator\n",
    " \n",
    "# Image dimensions\n",
    "img_width, img_height = 150, 150 \n",
    " \n",
    "\"\"\"\n",
    "    Creates a CNN model\n",
    "    p: Dropout rate\n",
    "    input_shape: Shape of input \n",
    "\"\"\"\n",
    "def create_model(p, input_shape=(32, 32, 3)):\n",
    "    # Initialising the CNN\n",
    "    model = Sequential()\n",
    "    # Convolution + Pooling Layer \n",
    "    model.add(Conv2D(32, (3, 3), padding='same', input_shape=input_shape, activation='relu'))\n",
    "    model.add(MaxPooling2D(pool_size=(2, 2)))\n",
    "    # Convolution + Pooling Layer \n",
    "    model.add(Conv2D(32, (3, 3), padding='same', activation='relu'))\n",
    "    model.add(MaxPooling2D(pool_size=(2, 2)))\n",
    "    # Convolution + Pooling Layer \n",
    "    model.add(Conv2D(64, (3, 3), padding='same', activation='relu'))\n",
    "    model.add(MaxPooling2D(pool_size=(2, 2)))\n",
    "    # Convolution + Pooling Layer \n",
    "    model.add(Conv2D(64, (3, 3), padding='same', activation='relu'))\n",
    "    model.add(MaxPooling2D(pool_size=(2, 2)))\n",
    "    \n",
    "    # Flattening\n",
    "    model.add(Flatten())\n",
    "    # Fully connection\n",
    "    model.add(Dense(64, activation='relu'))\n",
    "    model.add(Dropout(p))\n",
    "    model.add(Dense(64, activation='relu'))\n",
    "    model.add(Dense(64, activation='relu'))\n",
    "    model.add(Dropout(p/2))\n",
    "    model.add(Dense(1, activation='sigmoid'))\n",
    "    \n",
    "    # Compiling the CNN\n",
    "    optimizer = Adam(lr=1e-3)\n",
    "    metrics=['accuracy']\n",
    "    model.compile(optimizer=optimizer, loss='binary_crossentropy', metrics=metrics)\n",
    "    return model\n",
    "\"\"\"\n",
    "    Fitting the CNN to the images.\n",
    "\"\"\"\n",
    "def run_training(bs=32, epochs=10):\n",
    "    \n",
    "    train_datagen = ImageDataGenerator(rescale = 1./255, \n",
    "                                       shear_range = 0.2, \n",
    "                                       zoom_range = 0.2, \n",
    "                                       horizontal_flip = True)\n",
    "    test_datagen = ImageDataGenerator(rescale = 1./255)\n",
    " \n",
    "    training_set = train_datagen.flow_from_directory('dataset/training_set',\n",
    "                                                 target_size = (img_width, img_height),\n",
    "                                                 batch_size = bs,\n",
    "                                                 class_mode = 'binary')\n",
    "                                                 \n",
    "    test_set = test_datagen.flow_from_directory('dataset/test_set',\n",
    "                                            target_size = (img_width, img_height),\n",
    "                                            batch_size = bs,\n",
    "                                            class_mode = 'binary')\n",
    "                                            \n",
    "    model = create_model(p=0.6, input_shape=(img_width, img_height, 3))                                  \n",
    "    model.fit_generator(training_set,\n",
    "                         steps_per_epoch=8000/bs,\n",
    "                         epochs = epochs,\n",
    "                         validation_data = test_set,\n",
    "                         validation_steps = 2000/bs)"
   ]
  },
  {
   "cell_type": "code",
   "execution_count": null,
   "metadata": {},
   "outputs": [
    {
     "name": "stdout",
     "output_type": "stream",
     "text": [
      "Found 8000 images belonging to 2 classes.\n",
      "Found 2000 images belonging to 2 classes.\n",
      "Epoch 1/100\n",
      "250/250 [==============================] - 277s - loss: 0.6942 - acc: 0.5015 - val_loss: 0.6932 - val_acc: 0.5000\n",
      "Epoch 2/100\n",
      "250/250 [==============================] - 29252s - loss: 0.6935 - acc: 0.4940 - val_loss: 0.6931 - val_acc: 0.5100\n",
      "Epoch 3/100\n",
      "249/250 [============================>.] - ETA: 112s - loss: 0.6934 - acc: 0.4903"
     ]
    }
   ],
   "source": [
    "run_training(bs=32, epochs=100)"
   ]
  },
  {
   "cell_type": "code",
   "execution_count": null,
   "metadata": {},
   "outputs": [],
   "source": []
  }
 ],
 "metadata": {
  "kernelspec": {
   "display_name": "Python 3",
   "language": "python",
   "name": "python3"
  },
  "language_info": {
   "codemirror_mode": {
    "name": "ipython",
    "version": 3
   },
   "file_extension": ".py",
   "mimetype": "text/x-python",
   "name": "python",
   "nbconvert_exporter": "python",
   "pygments_lexer": "ipython3",
   "version": "3.6.3"
  }
 },
 "nbformat": 4,
 "nbformat_minor": 2
}
